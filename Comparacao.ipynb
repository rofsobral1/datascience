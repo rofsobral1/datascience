{
  "nbformat": 4,
  "nbformat_minor": 0,
  "metadata": {
    "colab": {
      "name": "Comparacao.ipynb",
      "provenance": [],
      "collapsed_sections": [],
      "authorship_tag": "ABX9TyMjBwLJ805hCubFxidDiJO1",
      "include_colab_link": true
    },
    "kernelspec": {
      "name": "python3",
      "display_name": "Python 3"
    }
  },
  "cells": [
    {
      "cell_type": "markdown",
      "metadata": {
        "id": "view-in-github",
        "colab_type": "text"
      },
      "source": [
        "<a href=\"https://colab.research.google.com/github/rofsobral1/datascience/blob/main/Comparacao.ipynb\" target=\"_parent\"><img src=\"https://colab.research.google.com/assets/colab-badge.svg\" alt=\"Open In Colab\"/></a>"
      ]
    },
    {
      "cell_type": "code",
      "metadata": {
        "id": "NPdJkbZtpNAg"
      },
      "source": [
        "num1 = int(input(\"\"))\r\n",
        "num2 = int(input(\"\"))\r\n",
        "if num1 > num2:\r\n",
        "  print(f\"{num1} é maior que {num2}\")\r\n",
        "else:\r\n",
        "  print(f\"{num2} é maior que {num1}\")"
      ],
      "execution_count": null,
      "outputs": []
    }
  ]
}