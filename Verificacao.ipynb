{
  "nbformat": 4,
  "nbformat_minor": 0,
  "metadata": {
    "colab": {
      "name": "Verificacao.ipynb",
      "provenance": [],
      "collapsed_sections": [],
      "authorship_tag": "ABX9TyPgqYwKk9RGeo2ifbJ2FZN3",
      "include_colab_link": true
    },
    "kernelspec": {
      "name": "python3",
      "display_name": "Python 3"
    }
  },
  "cells": [
    {
      "cell_type": "markdown",
      "metadata": {
        "id": "view-in-github",
        "colab_type": "text"
      },
      "source": [
        "<a href=\"https://colab.research.google.com/github/rofsobral1/datascience/blob/main/Verificacao.ipynb\" target=\"_parent\"><img src=\"https://colab.research.google.com/assets/colab-badge.svg\" alt=\"Open In Colab\"/></a>"
      ]
    },
    {
      "cell_type": "code",
      "metadata": {
        "id": "QlT7hZ4ipoPf"
      },
      "source": [
        "letra = input(\"Digite uma letra: \")\r\n",
        "if letra == 'F':\r\n",
        "  print(f\"Feminino\")\r\n",
        "elif letra == 'M':\r\n",
        "  print(f'Masculino')\r\n",
        "else:\r\n",
        "  print(f'Sexo Inválido')"
      ],
      "execution_count": null,
      "outputs": []
    }
  ]
}