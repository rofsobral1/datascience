{
  "nbformat": 4,
  "nbformat_minor": 0,
  "metadata": {
    "colab": {
      "name": "AprovacaoReprovacao.ipynb",
      "provenance": [],
      "collapsed_sections": [],
      "authorship_tag": "ABX9TyNqdBGWsCuKnqmZOsZRxMqg",
      "include_colab_link": true
    },
    "kernelspec": {
      "name": "python3",
      "display_name": "Python 3"
    }
  },
  "cells": [
    {
      "cell_type": "markdown",
      "metadata": {
        "id": "view-in-github",
        "colab_type": "text"
      },
      "source": [
        "<a href=\"https://colab.research.google.com/github/rofsobral1/datascience/blob/main/AprovacaoReprovacao.ipynb\" target=\"_parent\"><img src=\"https://colab.research.google.com/assets/colab-badge.svg\" alt=\"Open In Colab\"/></a>"
      ]
    },
    {
      "cell_type": "code",
      "metadata": {
        "id": "AfMgipl2q3Va"
      },
      "source": [
        "num1 = int(input(\"\"))\r\n",
        "num2 = int(input(\"\"))\r\n",
        "media = (num1 + num2)/2\r\n",
        "if media == 10:\r\n",
        "  print(f'Aprovado com Distinção')\r\n",
        "elif media >= 7:\r\n",
        "  print(f'Aprovado')\r\n",
        "else:\r\n",
        "  print(f'Reprovado')"
      ],
      "execution_count": null,
      "outputs": []
    }
  ]
}