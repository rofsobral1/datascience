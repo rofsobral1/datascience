{
  "nbformat": 4,
  "nbformat_minor": 0,
  "metadata": {
    "colab": {
      "name": "Media.ipynb",
      "provenance": [],
      "collapsed_sections": [],
      "authorship_tag": "ABX9TyPECJ/h/lVeqA2i4aJTANAQ",
      "include_colab_link": true
    },
    "kernelspec": {
      "name": "python3",
      "display_name": "Python 3"
    }
  },
  "cells": [
    {
      "cell_type": "markdown",
      "metadata": {
        "id": "view-in-github",
        "colab_type": "text"
      },
      "source": [
        "<a href=\"https://colab.research.google.com/github/rofsobral1/datascience/blob/main/Media.ipynb\" target=\"_parent\"><img src=\"https://colab.research.google.com/assets/colab-badge.svg\" alt=\"Open In Colab\"/></a>"
      ]
    },
    {
      "cell_type": "code",
      "metadata": {
        "id": "yZbf2HAuBqHD"
      },
      "source": [
        "num1 = int(input(\"\"))\r\n",
        "num2 = int(input(\"\"))\r\n",
        "num3 = int(input(\"\"))\r\n",
        "media = (num1 + num2 + num3)/3\r\n",
        "print(f\"A média dos números é {media}\")"
      ],
      "execution_count": null,
      "outputs": []
    }
  ]
}