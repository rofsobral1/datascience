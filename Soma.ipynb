{
  "nbformat": 4,
  "nbformat_minor": 0,
  "metadata": {
    "colab": {
      "name": "Soma.ipynb",
      "provenance": [],
      "authorship_tag": "ABX9TyN7LgpfMkpbc50Rt5HlOEfC",
      "include_colab_link": true
    },
    "kernelspec": {
      "name": "python3",
      "display_name": "Python 3"
    }
  },
  "cells": [
    {
      "cell_type": "markdown",
      "metadata": {
        "id": "view-in-github",
        "colab_type": "text"
      },
      "source": [
        "<a href=\"https://colab.research.google.com/github/rofsobral1/datascience/blob/main/Soma.ipynb\" target=\"_parent\"><img src=\"https://colab.research.google.com/assets/colab-badge.svg\" alt=\"Open In Colab\"/></a>"
      ]
    },
    {
      "cell_type": "code",
      "metadata": {
        "id": "Vpj25bGt_YBz"
      },
      "source": [
        "num1 = int(input(\"\"))\r\n",
        "num2 = int(input(\"\"))\r\n",
        "soma = num1 + num2\r\n",
        "print(f\"A soma dos números é {soma}\")"
      ],
      "execution_count": null,
      "outputs": []
    }
  ]
}